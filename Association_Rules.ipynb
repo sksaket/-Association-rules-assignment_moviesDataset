{
  "nbformat": 4,
  "nbformat_minor": 0,
  "metadata": {
    "colab": {
      "name": "Association Rules.ipynb",
      "provenance": [],
      "authorship_tag": "ABX9TyNn1CJ/05hPNCDM6+NEkqLQ",
      "include_colab_link": true
    },
    "kernelspec": {
      "name": "python3",
      "display_name": "Python 3"
    },
    "language_info": {
      "name": "python"
    }
  },
  "cells": [
    {
      "cell_type": "markdown",
      "metadata": {
        "id": "view-in-github",
        "colab_type": "text"
      },
      "source": [
        "<a href=\"https://colab.research.google.com/github/sksaket/Association-Rules/blob/main/Association_Rules.ipynb\" target=\"_parent\"><img src=\"https://colab.research.google.com/assets/colab-badge.svg\" alt=\"Open In Colab\"/></a>"
      ]
    },
    {
      "cell_type": "code",
      "metadata": {
        "id": "Fdg7JaG6uPVu"
      },
      "source": [
        "import numpy as np\n",
        "import pandas as pd\n",
        "import matplotlib.pyplot as plt"
      ],
      "execution_count": 10,
      "outputs": []
    },
    {
      "cell_type": "code",
      "metadata": {
        "id": "8hH77C9uylJZ"
      },
      "source": [
        "movies=pd.read_csv('/content/my_movies.csv')\n",
        "movies=movies.iloc[:,5:]"
      ],
      "execution_count": 11,
      "outputs": []
    },
    {
      "cell_type": "code",
      "metadata": {
        "colab": {
          "base_uri": "https://localhost:8080/",
          "height": 333
        },
        "id": "ipwDgOyCyp2W",
        "outputId": "29aa9a39-c52c-47c9-e5b9-aee79d64ddb7"
      },
      "source": [
        "#Apriori Algorithm\n",
        "from mlxtend.frequent_patterns import apriori,association_rules\n",
        "frequent_itemsets=apriori(movies,min_support=0.05,use_colnames=True,max_len=3)\n",
        "frequent_itemsets.sort_values('support',ascending=False,inplace=True)\n",
        "plt.bar(x = list(range(1,11)),height = frequent_itemsets.support[1:11],color='rgmyk');plt.xticks(list(range(1,11)),frequent_itemsets.itemsets[1:11])\n",
        "plt.xlabel('item-sets');plt.ylabel('support')\n",
        "rules=association_rules(frequent_itemsets,metric='lift',min_threshold=1)"
      ],
      "execution_count": 12,
      "outputs": [
        {
          "output_type": "stream",
          "name": "stderr",
          "text": [
            "/usr/local/lib/python3.7/dist-packages/ipykernel_launcher.py:5: MatplotlibDeprecationWarning: Using a string of single character colors as a color sequence is deprecated. Use an explicit list instead.\n",
            "  \"\"\"\n"
          ]
        },
        {
          "output_type": "display_data",
          "data": {
            "image/png": "[encoded data removed]",
            "text/plain": [
              "<Figure size 432x288 with 1 Axes>"
            ]
          },
          "metadata": {
            "needs_background": "light"
          }
        }
      ]
    },
    {
      "cell_type": "markdown",
      "metadata": {
        "id": "HToejxTGy6me"
      },
      "source": [
        "# To eliminate Redudancy in Rules "
      ]
    },
    {
      "cell_type": "code",
      "metadata": {
        "id": "uBvFaFKFyp4m"
      },
      "source": [
        "def to_list(i):\n",
        "    return (sorted(list(i)))"
      ],
      "execution_count": 13,
      "outputs": []
    },
    {
      "cell_type": "code",
      "metadata": {
        "id": "dAYrCi3zyp6o"
      },
      "source": [
        "ma_X = rules.antecedents.apply(to_list)+rules.consequents.apply(to_list)"
      ],
      "execution_count": 14,
      "outputs": []
    },
    {
      "cell_type": "code",
      "metadata": {
        "id": "eVIICYMVyp8r"
      },
      "source": [
        "ma_X = ma_X.apply(sorted)"
      ],
      "execution_count": 15,
      "outputs": []
    },
    {
      "cell_type": "code",
      "metadata": {
        "id": "mVRagkiuyp-v"
      },
      "source": [
        "rules_sets = list(ma_X)"
      ],
      "execution_count": 16,
      "outputs": []
    },
    {
      "cell_type": "code",
      "metadata": {
        "id": "RJzgn5p-yqAh"
      },
      "source": [
        "unique_rules_sets = [list(m) for m in set(tuple(i) for i in rules_sets)]\n",
        "index_rules = []"
      ],
      "execution_count": 17,
      "outputs": []
    },
    {
      "cell_type": "code",
      "metadata": {
        "id": "bD8sxawFyqHi"
      },
      "source": [
        "for i in unique_rules_sets:\n",
        "    index_rules.append(rules_sets.index(i))"
      ],
      "execution_count": 18,
      "outputs": []
    },
    {
      "cell_type": "code",
      "metadata": {
        "id": "i14QJxynzTo4"
      },
      "source": [
        "# getting rules without any redudancy \n",
        "rules_no_redudancy  = rules.iloc[index_rules,:]"
      ],
      "execution_count": 19,
      "outputs": []
    },
    {
      "cell_type": "code",
      "metadata": {
        "colab": {
          "base_uri": "https://localhost:8080/",
          "height": 357
        },
        "id": "XkeM9xS-zUiv",
        "outputId": "0567659f-b744-4c01-ffa5-d7ab9f0aeb03"
      },
      "source": [
        "# Sorting them with respect to list and getting top 10 rules \n",
        "rules_no_redudancy.sort_values('lift',ascending=False).head(10)"
      ],
      "execution_count": 20,
      "outputs": [
        {
          "output_type": "execute_result",
          "data": {
            "text/html": [
              "<div>\n",
              "<style scoped>\n",
              "    .dataframe tbody tr th:only-of-type {\n",
              "        vertical-align: middle;\n",
              "    }\n",
              "\n",
              "    .dataframe tbody tr th {\n",
              "        vertical-align: top;\n",
              "    }\n",
              "\n",
              "    .dataframe thead th {\n",
              "        text-align: right;\n",
              "    }\n",
              "</style>\n",
              "<table border=\"1\" class=\"dataframe\">\n",
              "  <thead>\n",
              "    <tr style=\"text-align: right;\">\n",
              "      <th></th>\n",
              "      <th>antecedents</th>\n",
              "      <th>consequents</th>\n",
              "      <th>antecedent support</th>\n",
              "      <th>consequent support</th>\n",
              "      <th>support</th>\n",
              "      <th>confidence</th>\n",
              "      <th>lift</th>\n",
              "      <th>leverage</th>\n",
              "      <th>conviction</th>\n",
              "    </tr>\n",
              "  </thead>\n",
              "  <tbody>\n",
              "    <tr>\n",
              "      <th>80</th>\n",
              "      <td>(Green Mile, Gladiator)</td>\n",
              "      <td>(LOTR)</td>\n",
              "      <td>0.1</td>\n",
              "      <td>0.1</td>\n",
              "      <td>0.1</td>\n",
              "      <td>1.0</td>\n",
              "      <td>10.0</td>\n",
              "      <td>0.09</td>\n",
              "      <td>inf</td>\n",
              "    </tr>\n",
              "    <tr>\n",
              "      <th>60</th>\n",
              "      <td>(Harry Potter1, LOTR2)</td>\n",
              "      <td>(LOTR1)</td>\n",
              "      <td>0.1</td>\n",
              "      <td>0.2</td>\n",
              "      <td>0.1</td>\n",
              "      <td>1.0</td>\n",
              "      <td>5.0</td>\n",
              "      <td>0.08</td>\n",
              "      <td>inf</td>\n",
              "    </tr>\n",
              "    <tr>\n",
              "      <th>72</th>\n",
              "      <td>(Green Mile)</td>\n",
              "      <td>(LOTR)</td>\n",
              "      <td>0.2</td>\n",
              "      <td>0.1</td>\n",
              "      <td>0.1</td>\n",
              "      <td>0.5</td>\n",
              "      <td>5.0</td>\n",
              "      <td>0.08</td>\n",
              "      <td>1.8</td>\n",
              "    </tr>\n",
              "    <tr>\n",
              "      <th>118</th>\n",
              "      <td>(Green Mile, Harry Potter1)</td>\n",
              "      <td>(LOTR2)</td>\n",
              "      <td>0.1</td>\n",
              "      <td>0.2</td>\n",
              "      <td>0.1</td>\n",
              "      <td>1.0</td>\n",
              "      <td>5.0</td>\n",
              "      <td>0.08</td>\n",
              "      <td>inf</td>\n",
              "    </tr>\n",
              "    <tr>\n",
              "      <th>114</th>\n",
              "      <td>(Harry Potter2)</td>\n",
              "      <td>(Harry Potter1)</td>\n",
              "      <td>0.1</td>\n",
              "      <td>0.2</td>\n",
              "      <td>0.1</td>\n",
              "      <td>1.0</td>\n",
              "      <td>5.0</td>\n",
              "      <td>0.08</td>\n",
              "      <td>inf</td>\n",
              "    </tr>\n",
              "    <tr>\n",
              "      <th>86</th>\n",
              "      <td>(Green Mile, LOTR2)</td>\n",
              "      <td>(LOTR1)</td>\n",
              "      <td>0.1</td>\n",
              "      <td>0.2</td>\n",
              "      <td>0.1</td>\n",
              "      <td>1.0</td>\n",
              "      <td>5.0</td>\n",
              "      <td>0.08</td>\n",
              "      <td>inf</td>\n",
              "    </tr>\n",
              "    <tr>\n",
              "      <th>38</th>\n",
              "      <td>(LOTR2, Sixth Sense)</td>\n",
              "      <td>(LOTR1)</td>\n",
              "      <td>0.1</td>\n",
              "      <td>0.2</td>\n",
              "      <td>0.1</td>\n",
              "      <td>1.0</td>\n",
              "      <td>5.0</td>\n",
              "      <td>0.08</td>\n",
              "      <td>inf</td>\n",
              "    </tr>\n",
              "    <tr>\n",
              "      <th>48</th>\n",
              "      <td>(Green Mile, Harry Potter1)</td>\n",
              "      <td>(LOTR1)</td>\n",
              "      <td>0.1</td>\n",
              "      <td>0.2</td>\n",
              "      <td>0.1</td>\n",
              "      <td>1.0</td>\n",
              "      <td>5.0</td>\n",
              "      <td>0.08</td>\n",
              "      <td>inf</td>\n",
              "    </tr>\n",
              "    <tr>\n",
              "      <th>32</th>\n",
              "      <td>(Harry Potter1, Sixth Sense)</td>\n",
              "      <td>(LOTR1)</td>\n",
              "      <td>0.1</td>\n",
              "      <td>0.2</td>\n",
              "      <td>0.1</td>\n",
              "      <td>1.0</td>\n",
              "      <td>5.0</td>\n",
              "      <td>0.08</td>\n",
              "      <td>inf</td>\n",
              "    </tr>\n",
              "    <tr>\n",
              "      <th>12</th>\n",
              "      <td>(LOTR2)</td>\n",
              "      <td>(LOTR1)</td>\n",
              "      <td>0.2</td>\n",
              "      <td>0.2</td>\n",
              "      <td>0.2</td>\n",
              "      <td>1.0</td>\n",
              "      <td>5.0</td>\n",
              "      <td>0.16</td>\n",
              "      <td>inf</td>\n",
              "    </tr>\n",
              "  </tbody>\n",
              "</table>\n",
              "</div>"
            ],
            "text/plain": [
              "                      antecedents      consequents  ...  leverage  conviction\n",
              "80        (Green Mile, Gladiator)           (LOTR)  ...      0.09         inf\n",
              "60         (Harry Potter1, LOTR2)          (LOTR1)  ...      0.08         inf\n",
              "72                   (Green Mile)           (LOTR)  ...      0.08         1.8\n",
              "118   (Green Mile, Harry Potter1)          (LOTR2)  ...      0.08         inf\n",
              "114               (Harry Potter2)  (Harry Potter1)  ...      0.08         inf\n",
              "86            (Green Mile, LOTR2)          (LOTR1)  ...      0.08         inf\n",
              "38           (LOTR2, Sixth Sense)          (LOTR1)  ...      0.08         inf\n",
              "48    (Green Mile, Harry Potter1)          (LOTR1)  ...      0.08         inf\n",
              "32   (Harry Potter1, Sixth Sense)          (LOTR1)  ...      0.08         inf\n",
              "12                        (LOTR2)          (LOTR1)  ...      0.16         inf\n",
              "\n",
              "[10 rows x 9 columns]"
            ]
          },
          "metadata": {},
          "execution_count": 20
        }
      ]
    }
  ]
}